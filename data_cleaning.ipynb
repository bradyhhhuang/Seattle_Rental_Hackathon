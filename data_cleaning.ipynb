{
 "cells": [
  {
   "cell_type": "code",
   "execution_count": 1,
   "metadata": {},
   "outputs": [],
   "source": [
    "import ast\n",
    "import json\n",
    "import pandas as pd\n",
    "import numpy as np"
   ]
  },
  {
   "cell_type": "code",
   "execution_count": 342,
   "metadata": {},
   "outputs": [],
   "source": [
    "# ListResults"
   ]
  },
  {
   "cell_type": "code",
   "execution_count": 352,
   "metadata": {},
   "outputs": [],
   "source": [
    "df_list = pd.DataFrame()\n",
    "dist_map = {'CH': 'Capitol Hill', 'QA': 'Queen Anne', 'SLU': 'SLU', 'UD': 'University District', 'WF': 'Wallingford & Fremont'}\n",
    "for region in ['CH', 'QA', 'SLU', 'UD', 'WF']: \n",
    "    df_temp = pd.read_csv(f'data/{region}_listResults.csv')\n",
    "    df_temp = df_temp[~df_temp.duplicated()]\n",
    "    df_temp['Dist'] = dist_map[region]\n",
    "    df_list = pd.concat([df_list, df_temp], axis = 0)"
   ]
  },
  {
   "cell_type": "code",
   "execution_count": 353,
   "metadata": {},
   "outputs": [
    {
     "data": {
      "text/plain": [
       "Index(['zpid', 'id', 'providerListingId', 'imgSrc', 'hasImage', 'detailUrl',\n",
       "       'statusType', 'statusText', 'address', 'addressStreet', 'addressCity',\n",
       "       'addressState', 'addressZipcode', 'units', 'lotId', 'latLong',\n",
       "       'variableData', 'badgeInfo', 'isSaved', 'buildingName', 'isBuilding',\n",
       "       'canSaveBuilding', 'has3DModel', 'isFeaturedListing',\n",
       "       'isShowcaseListing', 'list', 'relaxed', 'carouselPhotos',\n",
       "       'availabilityCount', 'marketingTreatments', 'isInstantTourEnabled',\n",
       "       'isContactable', 'rawHomeStatusCd', 'marketingStatusSimplifiedCd',\n",
       "       'countryCurrency', 'price', 'unformattedPrice', 'isUndisclosedAddress',\n",
       "       'beds', 'baths', 'area', 'isZillowOwned', 'hdpData',\n",
       "       'isUserClaimingOwner', 'isUserConfirmedClaim', 'pgapt', 'sgapt',\n",
       "       'shouldShowZestimateAsPrice', 'hasVideo', 'isHomeRec',\n",
       "       'hasAdditionalAttributions', 'availabilityDate', 'rooms', 'zestimate',\n",
       "       'streetViewURL', 'streetViewMetadataURL', 'Dist'],\n",
       "      dtype='object')"
      ]
     },
     "execution_count": 353,
     "metadata": {},
     "output_type": "execute_result"
    }
   ],
   "source": [
    "df_list.columns"
   ]
  },
  {
   "cell_type": "code",
   "execution_count": 354,
   "metadata": {},
   "outputs": [
    {
     "name": "stderr",
     "output_type": "stream",
     "text": [
      "/var/folders/1s/89d5t8ln1xd3m_vytz6l1v2w0000gn/T/ipykernel_20204/355105244.py:3: SettingWithCopyWarning: \n",
      "A value is trying to be set on a copy of a slice from a DataFrame.\n",
      "Try using .loc[row_indexer,col_indexer] = value instead\n",
      "\n",
      "See the caveats in the documentation: https://pandas.pydata.org/pandas-docs/stable/user_guide/indexing.html#returning-a-view-versus-a-copy\n",
      "  df_1p_unit['unitlist'] = list(map(lambda x : [] if x is np.nan else ast.literal_eval(x), df_1p_unit['units']))\n",
      "/var/folders/1s/89d5t8ln1xd3m_vytz6l1v2w0000gn/T/ipykernel_20204/355105244.py:10: SettingWithCopyWarning: \n",
      "A value is trying to be set on a copy of a slice from a DataFrame.\n",
      "Try using .loc[row_indexer,col_indexer] = value instead\n",
      "\n",
      "See the caveats in the documentation: https://pandas.pydata.org/pandas-docs/stable/user_guide/indexing.html#returning-a-view-versus-a-copy\n",
      "  df_temp['beds'] = list(map(lambda x : x[count-1]['beds'], df_temp['unitlist']))\n",
      "/var/folders/1s/89d5t8ln1xd3m_vytz6l1v2w0000gn/T/ipykernel_20204/355105244.py:11: SettingWithCopyWarning: \n",
      "A value is trying to be set on a copy of a slice from a DataFrame.\n",
      "Try using .loc[row_indexer,col_indexer] = value instead\n",
      "\n",
      "See the caveats in the documentation: https://pandas.pydata.org/pandas-docs/stable/user_guide/indexing.html#returning-a-view-versus-a-copy\n",
      "  df_temp['price'] = list(map(lambda x : x[count-1]['price'], df_temp['unitlist']))\n",
      "/var/folders/1s/89d5t8ln1xd3m_vytz6l1v2w0000gn/T/ipykernel_20204/355105244.py:10: SettingWithCopyWarning: \n",
      "A value is trying to be set on a copy of a slice from a DataFrame.\n",
      "Try using .loc[row_indexer,col_indexer] = value instead\n",
      "\n",
      "See the caveats in the documentation: https://pandas.pydata.org/pandas-docs/stable/user_guide/indexing.html#returning-a-view-versus-a-copy\n",
      "  df_temp['beds'] = list(map(lambda x : x[count-1]['beds'], df_temp['unitlist']))\n",
      "/var/folders/1s/89d5t8ln1xd3m_vytz6l1v2w0000gn/T/ipykernel_20204/355105244.py:11: SettingWithCopyWarning: \n",
      "A value is trying to be set on a copy of a slice from a DataFrame.\n",
      "Try using .loc[row_indexer,col_indexer] = value instead\n",
      "\n",
      "See the caveats in the documentation: https://pandas.pydata.org/pandas-docs/stable/user_guide/indexing.html#returning-a-view-versus-a-copy\n",
      "  df_temp['price'] = list(map(lambda x : x[count-1]['price'], df_temp['unitlist']))\n",
      "/var/folders/1s/89d5t8ln1xd3m_vytz6l1v2w0000gn/T/ipykernel_20204/355105244.py:10: SettingWithCopyWarning: \n",
      "A value is trying to be set on a copy of a slice from a DataFrame.\n",
      "Try using .loc[row_indexer,col_indexer] = value instead\n",
      "\n",
      "See the caveats in the documentation: https://pandas.pydata.org/pandas-docs/stable/user_guide/indexing.html#returning-a-view-versus-a-copy\n",
      "  df_temp['beds'] = list(map(lambda x : x[count-1]['beds'], df_temp['unitlist']))\n",
      "/var/folders/1s/89d5t8ln1xd3m_vytz6l1v2w0000gn/T/ipykernel_20204/355105244.py:11: SettingWithCopyWarning: \n",
      "A value is trying to be set on a copy of a slice from a DataFrame.\n",
      "Try using .loc[row_indexer,col_indexer] = value instead\n",
      "\n",
      "See the caveats in the documentation: https://pandas.pydata.org/pandas-docs/stable/user_guide/indexing.html#returning-a-view-versus-a-copy\n",
      "  df_temp['price'] = list(map(lambda x : x[count-1]['price'], df_temp['unitlist']))\n",
      "/var/folders/1s/89d5t8ln1xd3m_vytz6l1v2w0000gn/T/ipykernel_20204/355105244.py:10: SettingWithCopyWarning: \n",
      "A value is trying to be set on a copy of a slice from a DataFrame.\n",
      "Try using .loc[row_indexer,col_indexer] = value instead\n",
      "\n",
      "See the caveats in the documentation: https://pandas.pydata.org/pandas-docs/stable/user_guide/indexing.html#returning-a-view-versus-a-copy\n",
      "  df_temp['beds'] = list(map(lambda x : x[count-1]['beds'], df_temp['unitlist']))\n",
      "/var/folders/1s/89d5t8ln1xd3m_vytz6l1v2w0000gn/T/ipykernel_20204/355105244.py:11: SettingWithCopyWarning: \n",
      "A value is trying to be set on a copy of a slice from a DataFrame.\n",
      "Try using .loc[row_indexer,col_indexer] = value instead\n",
      "\n",
      "See the caveats in the documentation: https://pandas.pydata.org/pandas-docs/stable/user_guide/indexing.html#returning-a-view-versus-a-copy\n",
      "  df_temp['price'] = list(map(lambda x : x[count-1]['price'], df_temp['unitlist']))\n"
     ]
    }
   ],
   "source": [
    "df_all = df_list[df_list['units'].isnull()]\n",
    "df_1p_unit = df_list[df_list['units'].notna()]\n",
    "df_1p_unit['unitlist'] = list(map(lambda x : [] if x is np.nan else ast.literal_eval(x), df_1p_unit['units']))\n",
    "max_units = max(map(len, df_1p_unit['unitlist']))\n",
    "for i in range(1, max_units+1):\n",
    "    filter = []\n",
    "    df_temp = df_1p_unit[list(map(lambda x : len(x) == i, df_1p_unit['unitlist']))]\n",
    "    count = i\n",
    "    while count > 0:\n",
    "        df_temp['beds'] = list(map(lambda x : x[count-1]['beds'], df_temp['unitlist']))\n",
    "        df_temp['price'] = list(map(lambda x : x[count-1]['price'], df_temp['unitlist']))\n",
    "        df_all = pd.concat([df_all, df_temp], axis=0)\n",
    "        count -= 1\n",
    "df_all = df_all.drop('unitlist', axis=1)"
   ]
  },
  {
   "cell_type": "code",
   "execution_count": 355,
   "metadata": {},
   "outputs": [],
   "source": [
    "df_all = df_all[~df_all[['statusType', 'statusText', 'address', 'addressStreet', \n",
    "                'addressCity', 'latLong', 'price', 'unformattedPrice', 'beds', \n",
    "                'baths', 'area']].duplicated()]\n",
    "df_all = df_all[df_all['latLong'].apply(lambda x : len(x) > 2)]"
   ]
  },
  {
   "cell_type": "code",
   "execution_count": 356,
   "metadata": {},
   "outputs": [],
   "source": [
    "df_all['price'] = df_all['price'].str.replace('/mo', '').str.replace('$', '').str.replace('+', '').str.replace(',', '').astype(int)"
   ]
  },
  {
   "cell_type": "code",
   "execution_count": 357,
   "metadata": {},
   "outputs": [],
   "source": [
    "df_all = df_all[['Dist', 'providerListingId', 'imgSrc', 'hasImage', 'detailUrl',\n",
    "       'statusType', 'statusText', 'address', 'addressStreet', 'addressCity',\n",
    "       'addressState', 'addressZipcode', 'units', 'latLong',\n",
    "       'buildingName', 'isBuilding',\n",
    "       'canSaveBuilding', 'isFeaturedListing',\n",
    "       'isShowcaseListing',\n",
    "       'availabilityCount', 'isInstantTourEnabled',\n",
    "       'isContactable', 'rawHomeStatusCd',\n",
    "       'countryCurrency', 'price', 'unformattedPrice', 'isUndisclosedAddress',\n",
    "       'beds', 'baths', 'area', 'isZillowOwned', 'hdpData',\n",
    "       'isUserClaimingOwner', 'isUserConfirmedClaim', 'pgapt', 'sgapt',\n",
    "       'shouldShowZestimateAsPrice', 'hasVideo', 'isHomeRec',\n",
    "       'hasAdditionalAttributions', 'availabilityDate', 'zestimate']]"
   ]
  },
  {
   "cell_type": "code",
   "execution_count": 358,
   "metadata": {},
   "outputs": [],
   "source": [
    "df_all['latitude'] = list(map(lambda x : ast.literal_eval(x)['latitude'], df_all['latLong']))\n",
    "df_all['longitude'] = list(map(lambda x : ast.literal_eval(x)['longitude'], df_all['latLong']))"
   ]
  },
  {
   "cell_type": "code",
   "execution_count": 359,
   "metadata": {},
   "outputs": [],
   "source": [
    "df_all.to_csv('df_all_listResults.csv', index=False)"
   ]
  },
  {
   "cell_type": "code",
   "execution_count": 360,
   "metadata": {},
   "outputs": [
    {
     "data": {
      "text/plain": [
       "(1109, 44)"
      ]
     },
     "execution_count": 360,
     "metadata": {},
     "output_type": "execute_result"
    }
   ],
   "source": [
    "df_all.shape"
   ]
  },
  {
   "cell_type": "code",
   "execution_count": null,
   "metadata": {},
   "outputs": [],
   "source": [
    "# MapResults"
   ]
  },
  {
   "cell_type": "code",
   "execution_count": 361,
   "metadata": {},
   "outputs": [],
   "source": [
    "df_map = pd.DataFrame()\n",
    "dist_map = {'CH': 'Capitol Hill', 'QA': 'Queen Anne', 'SLU': 'SLU', 'UD': 'University District', 'WF': 'Wallingford & Fremont'}\n",
    "for region in ['CH', 'QA', 'SLU', 'UD', 'WF']: \n",
    "    df_temp = pd.read_csv(f'data/{region}_mapResults.csv')\n",
    "    df_temp = df_temp[~df_temp.duplicated()]\n",
    "    df_temp['Dist'] = dist_map[region]\n",
    "    df_map = pd.concat([df_map, df_temp], axis = 0)"
   ]
  },
  {
   "cell_type": "code",
   "execution_count": 362,
   "metadata": {},
   "outputs": [
    {
     "name": "stdout",
     "output_type": "stream",
     "text": [
      "(1120, 50)\n"
     ]
    },
    {
     "data": {
      "text/plain": [
       "Index(['plid', 'imgSrc', 'hasImage', 'detailUrl', 'statusType', 'statusText',\n",
       "       'price', 'address', 'minBeds', 'minBaths', 'minArea', 'lotId',\n",
       "       'latLong', 'variableData', 'badgeInfo', 'buildingName', 'buildingId',\n",
       "       'isBuilding', 'canSaveBuilding', 'has3DModel', 'isHomeRec',\n",
       "       'hasAdditionalAttributions', 'isFeaturedListing', 'isShowcaseListing',\n",
       "       'listingType', 'isFavorite', 'timeOnZillow', 'unitCount',\n",
       "       'rentalMarketingSubType', 'marketingTreatments', 'zpid',\n",
       "       'rawHomeStatusCd', 'marketingStatusSimplifiedCd', 'priceLabel', 'beds',\n",
       "       'baths', 'area', 'hdpData', 'isUserClaimingOwner',\n",
       "       'isUserConfirmedClaim', 'pgapt', 'sgapt', 'shouldShowZestimateAsPrice',\n",
       "       'hasVideo', 'availabilityDate', 'visited', 'info3String',\n",
       "       'streetViewURL', 'streetViewMetadataURL', 'Dist'],\n",
       "      dtype='object')"
      ]
     },
     "execution_count": 362,
     "metadata": {},
     "output_type": "execute_result"
    }
   ],
   "source": [
    "print(df_map.shape)\n",
    "df_map.columns"
   ]
  },
  {
   "cell_type": "code",
   "execution_count": 363,
   "metadata": {},
   "outputs": [],
   "source": [
    "df_map['price'] = df_map['price'].str.replace('/mo', '').str.replace('$', '').str.replace('+', '').str.replace(',', '').astype(int)"
   ]
  },
  {
   "cell_type": "code",
   "execution_count": 364,
   "metadata": {},
   "outputs": [],
   "source": [
    "df_map = df_map[~df_map[['price', 'address', 'minBeds', 'minBaths', 'minArea', 'lotId',\n",
    "       'latLong','buildingName', 'buildingId',\n",
    "       'isBuilding', 'priceLabel', 'beds',\n",
    "       'baths', 'area', ]].duplicated()]"
   ]
  },
  {
   "cell_type": "code",
   "execution_count": 365,
   "metadata": {},
   "outputs": [],
   "source": [
    "df_map['latitude'] = list(map(lambda x : ast.literal_eval(x)['latitude'], df_map['latLong']))\n",
    "df_map['longitude'] = list(map(lambda x : ast.literal_eval(x)['longitude'], df_map['latLong']))"
   ]
  },
  {
   "cell_type": "markdown",
   "metadata": {},
   "source": []
  },
  {
   "cell_type": "code",
   "execution_count": 366,
   "metadata": {},
   "outputs": [],
   "source": [
    "df_map.to_csv('data/df_all_mapResult.csv', index=False)"
   ]
  },
  {
   "cell_type": "code",
   "execution_count": null,
   "metadata": {},
   "outputs": [],
   "source": []
  }
 ],
 "metadata": {
  "kernelspec": {
   "display_name": "venv",
   "language": "python",
   "name": "venv"
  },
  "language_info": {
   "codemirror_mode": {
    "name": "ipython",
    "version": 3
   },
   "file_extension": ".py",
   "mimetype": "text/x-python",
   "name": "python",
   "nbconvert_exporter": "python",
   "pygments_lexer": "ipython3",
   "version": "3.12.5"
  }
 },
 "nbformat": 4,
 "nbformat_minor": 2
}

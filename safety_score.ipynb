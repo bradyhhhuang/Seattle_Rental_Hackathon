{
 "cells": [
  {
   "cell_type": "code",
   "execution_count": 90,
   "metadata": {},
   "outputs": [],
   "source": [
    "import pandas as pd \n",
    "import numpy as np\n",
    "from pyproj import Proj"
   ]
  },
  {
   "cell_type": "code",
   "execution_count": 102,
   "metadata": {},
   "outputs": [],
   "source": [
    "safety_df = pd.read_csv('Safetyspd.csv')"
   ]
  },
  {
   "cell_type": "code",
   "execution_count": 103,
   "metadata": {},
   "outputs": [
    {
     "name": "stdout",
     "output_type": "stream",
     "text": [
      "1.2672609816453408\n"
     ]
    }
   ],
   "source": [
    "from haversine import haversine, Unit\n",
    "\n",
    "## Examples \n",
    "# Coordinates (latitude, longitude)\n",
    "loc1 = (47.62207249, -122.346939293)  # Paris\n",
    "loc2 = (47.613342, -122.32301)  # London\n",
    "# Calculate distance in meters\n",
    "distance = haversine(loc1, loc2, unit=Unit.MILES)\n",
    "\n",
    "print(distance)"
   ]
  },
  {
   "cell_type": "code",
   "execution_count": 110,
   "metadata": {},
   "outputs": [],
   "source": [
    "df = pd.read_csv('data/df_all_listResults.csv')"
   ]
  },
  {
   "cell_type": "code",
   "execution_count": 111,
   "metadata": {},
   "outputs": [],
   "source": [
    "def cal_harversine(loc1, loc2_list):\n",
    "    res_list = []\n",
    "    for loc2 in loc2_list:\n",
    "        dist = haversine(loc1, loc2, unit=Unit.MILES)\n",
    "        res_list.append(dist)\n",
    "    \n",
    "    return res_list"
   ]
  },
  {
   "cell_type": "code",
   "execution_count": 112,
   "metadata": {},
   "outputs": [],
   "source": [
    "crime_locs = df.apply(lambda x: (x['latitude'], x['longitude']), axis=1)\n",
    "df['crime_dists'] = list(map(lambda x : cal_harversine(x , crime_locs), zip(df['latitude'], df['longitude'])))"
   ]
  },
  {
   "cell_type": "code",
   "execution_count": 113,
   "metadata": {},
   "outputs": [],
   "source": [
    "from scipy import stats\n",
    "b = 2\n",
    "df['crime_cnt_2b'] = list(map(lambda x : sum([1 if i < 0.035*b else 0 for i in x]), df['crime_dists']))\n",
    "df['safety_pr'] = list(map(lambda x :100 - stats.percentileofscore(df['crime_cnt_2b'], x), df['crime_cnt_2b']))\n",
    "df = df.drop('crime_dists', axis = 1)"
   ]
  },
  {
   "cell_type": "code",
   "execution_count": 114,
   "metadata": {},
   "outputs": [],
   "source": [
    "df.to_csv('data/df_all_listResults_w_crime.csv', index=False)"
   ]
  },
  {
   "cell_type": "code",
   "execution_count": null,
   "metadata": {},
   "outputs": [],
   "source": []
  }
 ],
 "metadata": {
  "kernelspec": {
   "display_name": "venv",
   "language": "python",
   "name": "venv"
  },
  "language_info": {
   "codemirror_mode": {
    "name": "ipython",
    "version": 3
   },
   "file_extension": ".py",
   "mimetype": "text/x-python",
   "name": "python",
   "nbconvert_exporter": "python",
   "pygments_lexer": "ipython3",
   "version": "3.12.5"
  }
 },
 "nbformat": 4,
 "nbformat_minor": 2
}
